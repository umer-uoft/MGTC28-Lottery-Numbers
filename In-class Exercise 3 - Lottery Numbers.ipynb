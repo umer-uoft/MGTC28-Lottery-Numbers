{
 "cells": [
  {
   "cell_type": "code",
   "execution_count": 1,
   "id": "32bfcf59",
   "metadata": {},
   "outputs": [],
   "source": [
    "import random as rd"
   ]
  },
  {
   "cell_type": "code",
   "execution_count": 2,
   "id": "db817421",
   "metadata": {},
   "outputs": [
    {
     "name": "stdout",
     "output_type": "stream",
     "text": [
      "How many draws would you like to do?10\n",
      "Your six lucky numbers are: [45, 47, 29, 48, 38, 5]\n",
      "Your six lucky numbers are: [25, 27, 29, 19, 38, 17]\n",
      "Your six lucky numbers are: [22, 4, 5, 15, 37, 8]\n",
      "Your six lucky numbers are: [18, 15, 16, 40, 41, 9]\n",
      "Your six lucky numbers are: [11, 37, 33, 34, 40, 36]\n",
      "Your six lucky numbers are: [20, 46, 3, 9, 37, 17]\n",
      "Your six lucky numbers are: [24, 46, 12, 43, 39, 6]\n",
      "Your six lucky numbers are: [10, 20, 21, 19, 1, 14]\n",
      "Your six lucky numbers are: [45, 24, 26, 7, 44, 35]\n",
      "Your six lucky numbers are: [14, 1, 34, 6, 46, 4]\n"
     ]
    }
   ],
   "source": [
    "import random as rd\n",
    "#simply run the code, and enter the amount of draws you would like to do.\n",
    "\n",
    "draws_input = int(input(\"How many draws would you like to do?\"))\n",
    "\n",
    "for i in range(draws_input):\n",
    "    lottery_numbers = rd.sample(range(1, 49), 6)\n",
    "    print('Your six lucky numbers are:', lottery_numbers)\n"
   ]
  },
  {
   "cell_type": "code",
   "execution_count": null,
   "id": "f0ffaa5c",
   "metadata": {},
   "outputs": [],
   "source": []
  }
 ],
 "metadata": {
  "kernelspec": {
   "display_name": "Python 3 (ipykernel)",
   "language": "python",
   "name": "python3"
  },
  "language_info": {
   "codemirror_mode": {
    "name": "ipython",
    "version": 3
   },
   "file_extension": ".py",
   "mimetype": "text/x-python",
   "name": "python",
   "nbconvert_exporter": "python",
   "pygments_lexer": "ipython3",
   "version": "3.10.8"
  }
 },
 "nbformat": 4,
 "nbformat_minor": 5
}
